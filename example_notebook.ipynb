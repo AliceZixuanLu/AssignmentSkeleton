{
  "cells": [
    {
      "cell_type": "code",
      "execution_count": null,
      "id": "a6857c60",
      "metadata": {
        "id": "a6857c60",
        "outputId": "f06625f9-93f6-407c-8d99-e63330af8251"
      },
      "outputs": [
        {
          "name": "stdout",
          "output_type": "stream",
          "text": [
            "The autoreload extension is already loaded. To reload it, use:\n",
            "  %reload_ext autoreload\n"
          ]
        }
      ],
      "source": [
        "%load_ext autoreload\n",
        "%autoreload 2\n",
        "\n",
        "import pandas as pd\n",
        "pd.set_option(\"display.max_rows\", 101)\n",
        "pd.set_option(\"display.max_columns\", 101)\n",
        "\n",
        "import matplotlib.pyplot as plt"
      ]
    },
    {
      "cell_type": "code",
      "execution_count": null,
      "id": "d2b01551",
      "metadata": {
        "id": "d2b01551"
      },
      "outputs": [],
      "source": [
        "import example_module as em"
      ]
    },
    {
      "cell_type": "code",
      "execution_count": null,
      "id": "27793560",
      "metadata": {
        "id": "27793560"
      },
      "outputs": [],
      "source": [
        "text = em.hello_world()"
      ]
    },
    {
      "cell_type": "code",
      "execution_count": null,
      "id": "dbcb5835",
      "metadata": {
        "id": "dbcb5835",
        "outputId": "d52e2ddb-ebb8-4a28-95c0-3c212b5be4eb"
      },
      "outputs": [
        {
          "data": {
            "text/plain": [
              "'Hello world from a module'"
            ]
          },
          "execution_count": 14,
          "metadata": {},
          "output_type": "execute_result"
        }
      ],
      "source": [
        "text"
      ]
    },
    {
      "cell_type": "code",
      "execution_count": null,
      "id": "8ac53833",
      "metadata": {
        "id": "8ac53833"
      },
      "outputs": [],
      "source": [
        "y = em.some_other_function(10)"
      ]
    },
    {
      "cell_type": "code",
      "execution_count": null,
      "id": "fc38b01e",
      "metadata": {
        "id": "fc38b01e",
        "outputId": "000d8301-4e28-4f84-beb9-ad76a28a09f2"
      },
      "outputs": [
        {
          "data": {
            "text/plain": [
              "10"
            ]
          },
          "execution_count": 16,
          "metadata": {},
          "output_type": "execute_result"
        }
      ],
      "source": [
        "y"
      ]
    },
    {
      "cell_type": "code",
      "execution_count": null,
      "id": "9d0151b7",
      "metadata": {
        "id": "9d0151b7"
      },
      "outputs": [],
      "source": [
        "y = em.some_other_function(\"Hmmmmmm?\")"
      ]
    },
    {
      "cell_type": "code",
      "execution_count": null,
      "id": "ca6f401d",
      "metadata": {
        "id": "ca6f401d",
        "outputId": "8fa0709a-2325-4d5f-e339-6cd89b7d1c93"
      },
      "outputs": [
        {
          "data": {
            "text/plain": [
              "'Hmmmmmm?'"
            ]
          },
          "execution_count": 18,
          "metadata": {},
          "output_type": "execute_result"
        }
      ],
      "source": [
        "y"
      ]
    },
    {
      "cell_type": "code",
      "execution_count": null,
      "id": "c309dbe9",
      "metadata": {
        "id": "c309dbe9"
      },
      "outputs": [],
      "source": [
        "z = em.some_other_function(\"ahhhhhh!\")"
      ]
    },
    {
      "cell_type": "code",
      "execution_count": null,
      "id": "7e08d7bc",
      "metadata": {
        "id": "7e08d7bc",
        "outputId": "d6b48cbe-f688-47b8-ba3e-6e2fdc7398e9"
      },
      "outputs": [
        {
          "data": {
            "text/plain": [
              "'ahhhhhh!'"
            ]
          },
          "execution_count": 20,
          "metadata": {},
          "output_type": "execute_result"
        }
      ],
      "source": [
        "z"
      ]
    },
    {
      "cell_type": "code",
      "execution_count": null,
      "id": "24c81592",
      "metadata": {
        "id": "24c81592"
      },
      "outputs": [],
      "source": [
        "zz = em.some_other_function(\"ahhhhhh again!\")\n",
        "\n"
      ]
    },
    {
      "cell_type": "code",
      "execution_count": null,
      "id": "b6eddc39",
      "metadata": {
        "id": "b6eddc39",
        "outputId": "b3cc442c-3779-4f6e-cc7e-bb9d63d19ced"
      },
      "outputs": [
        {
          "data": {
            "text/plain": [
              "'ahhhhhh again!'"
            ]
          },
          "execution_count": 22,
          "metadata": {},
          "output_type": "execute_result"
        }
      ],
      "source": [
        "zz"
      ]
    },
    {
      "cell_type": "code",
      "execution_count": null,
      "id": "8c68e131",
      "metadata": {
        "id": "8c68e131"
      },
      "outputs": [],
      "source": []
    }
  ],
  "metadata": {
    "kernelspec": {
      "display_name": "Python 3 (ipykernel)",
      "language": "python",
      "name": "python3"
    },
    "language_info": {
      "codemirror_mode": {
        "name": "ipython",
        "version": 3
      },
      "file_extension": ".py",
      "mimetype": "text/x-python",
      "name": "python",
      "nbconvert_exporter": "python",
      "pygments_lexer": "ipython3",
      "version": "3.8.13"
    },
    "colab": {
      "provenance": [],
      "toc_visible": true
    }
  },
  "nbformat": 4,
  "nbformat_minor": 5
}